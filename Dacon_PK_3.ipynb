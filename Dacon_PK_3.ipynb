{
 "cells": [
  {
   "cell_type": "markdown",
   "metadata": {
    "id": "_PcI9P3xO1rQ"
   },
   "source": [
    "# 창폐업 데이터 확인"
   ]
  },
  {
   "cell_type": "code",
   "execution_count": 1,
   "metadata": {
    "colab": {
     "base_uri": "https://localhost:8080/"
    },
    "executionInfo": {
     "elapsed": 456,
     "status": "ok",
     "timestamp": 1629164829345,
     "user": {
      "displayName": "박성준",
      "photoUrl": "",
      "userId": "09344137793244302063"
     },
     "user_tz": -540
    },
    "id": "cRFhm_3POxfu",
    "outputId": "9721e0cd-4903-48c9-e413-37888d4c946c"
   },
   "outputs": [
    {
     "ename": "ModuleNotFoundError",
     "evalue": "No module named 'google.colab'",
     "output_type": "error",
     "traceback": [
      "\u001b[1;31m---------------------------------------------------------------------------\u001b[0m",
      "\u001b[1;31mModuleNotFoundError\u001b[0m                       Traceback (most recent call last)",
      "\u001b[1;32m<ipython-input-1-d5df0069828e>\u001b[0m in \u001b[0;36m<module>\u001b[1;34m\u001b[0m\n\u001b[1;32m----> 1\u001b[1;33m \u001b[1;32mfrom\u001b[0m \u001b[0mgoogle\u001b[0m\u001b[1;33m.\u001b[0m\u001b[0mcolab\u001b[0m \u001b[1;32mimport\u001b[0m \u001b[0mdrive\u001b[0m\u001b[1;33m\u001b[0m\u001b[1;33m\u001b[0m\u001b[0m\n\u001b[0m\u001b[0;32m      2\u001b[0m \u001b[0mdrive\u001b[0m\u001b[1;33m.\u001b[0m\u001b[0mmount\u001b[0m\u001b[1;33m(\u001b[0m\u001b[1;34m'/content/drive'\u001b[0m\u001b[1;33m)\u001b[0m\u001b[1;33m\u001b[0m\u001b[1;33m\u001b[0m\u001b[0m\n",
      "\u001b[1;31mModuleNotFoundError\u001b[0m: No module named 'google.colab'"
     ]
    }
   ],
   "source": [
    "# from google.colab import drive\n",
    "# drive.mount('/content/drive')"
   ]
  },
  {
   "cell_type": "code",
   "execution_count": null,
   "metadata": {
    "colab": {
     "base_uri": "https://localhost:8080/"
    },
    "executionInfo": {
     "elapsed": 5995,
     "status": "ok",
     "timestamp": 1629164835767,
     "user": {
      "displayName": "박성준",
      "photoUrl": "",
      "userId": "09344137793244302063"
     },
     "user_tz": -540
    },
    "id": "ql3CM-RIQWyL",
    "outputId": "2d760fcc-76ba-40e4-b89e-af0fbd8b161f"
   },
   "outputs": [],
   "source": [
    "# # 한글폰트 사용 in colab\n",
    "# %matplotlib inline  \n",
    "\n",
    "# import matplotlib as mpl \n",
    "# import matplotlib.pyplot as plt \n",
    "# import matplotlib.font_manager as fm  \n",
    "\n",
    "# !apt-get update -qq\n",
    "# !apt-get install fonts-nanum* -qq\n",
    "\n",
    "# path = '/usr/share/fonts/truetype/nanum/NanumBarunGothic.ttf' \n",
    "# font_name = fm.FontProperties(fname=path, size=10).get_name()\n",
    "# print(font_name)\n",
    "# plt.rc('font', family=font_name)\n",
    "\n",
    "# fm._rebuild()\n",
    "# mpl.rcParams['axes.unicode_minus'] = False"
   ]
  },
  {
   "cell_type": "code",
   "execution_count": null,
   "metadata": {
    "executionInfo": {
     "elapsed": 945,
     "status": "ok",
     "timestamp": 1629164836688,
     "user": {
      "displayName": "박성준",
      "photoUrl": "",
      "userId": "09344137793244302063"
     },
     "user_tz": -540
    },
    "id": "TsHERTawQWvu"
   },
   "outputs": [],
   "source": [
    "import pandas as pd\n",
    "import numpy as np\n",
    "import missingno as msno\n",
    "import matplotlib.pyplot as plt\n",
    "import seaborn as sns\n",
    "sns.set_style('whitegrid')\n",
    "\n",
    "import os\n",
    "import time\n",
    "from tqdm import tqdm\n",
    "import warnings\n",
    "\n",
    "warnings.filterwarnings(\"ignore\")"
   ]
  },
  {
   "cell_type": "code",
   "execution_count": null,
   "metadata": {
    "colab": {
     "base_uri": "https://localhost:8080/"
    },
    "executionInfo": {
     "elapsed": 1295,
     "status": "ok",
     "timestamp": 1629164837979,
     "user": {
      "displayName": "박성준",
      "photoUrl": "",
      "userId": "09344137793244302063"
     },
     "user_tz": -540
    },
    "id": "vSxn_AxzQWt1",
    "outputId": "539410da-b5ab-4c03-df79-a5f319de5ff8"
   },
   "outputs": [],
   "source": [
    "os.listdir(\"/content/drive/MyDrive/KGU/공모전/KT_빅데이터플랫폼_데이터셋/\")"
   ]
  },
  {
   "cell_type": "code",
   "execution_count": null,
   "metadata": {
    "colab": {
     "base_uri": "https://localhost:8080/",
     "height": 391
    },
    "executionInfo": {
     "elapsed": 3048,
     "status": "ok",
     "timestamp": 1629164841025,
     "user": {
      "displayName": "박성준",
      "photoUrl": "",
      "userId": "09344137793244302063"
     },
     "user_tz": -540
    },
    "id": "FE-RwyBJQWpD",
    "outputId": "747c0e91-07f1-4961-de8b-68dd49b35cd4"
   },
   "outputs": [],
   "source": [
    "region = pd.read_csv(\"/content/drive/MyDrive/KGU/공모전/KT_빅데이터플랫폼_데이터셋/StartupOrClosing_Region_ver2.csv\")\n",
    "shop = pd.read_csv(\"/content/drive/MyDrive/KGU/공모전/KT_빅데이터플랫폼_데이터셋/StartupOrClosing_Shop_ver2.csv\")\n",
    "display(region.head())\n",
    "display(shop.head())"
   ]
  },
  {
   "cell_type": "code",
   "execution_count": null,
   "metadata": {},
   "outputs": [],
   "source": [
    "region['INDUTY_NM'].unique()"
   ]
  },
  {
   "cell_type": "code",
   "execution_count": null,
   "metadata": {
    "colab": {
     "base_uri": "https://localhost:8080/"
    },
    "executionInfo": {
     "elapsed": 18,
     "status": "ok",
     "timestamp": 1629164841027,
     "user": {
      "displayName": "박성준",
      "photoUrl": "",
      "userId": "09344137793244302063"
     },
     "user_tz": -540
    },
    "id": "Ji0FnKbOQWm2",
    "outputId": "1d080bbd-1155-4ecd-9eaa-b85f4b06a6ec"
   },
   "outputs": [],
   "source": [
    "# 날짜가 폐업 날짜가 아닌 데이터 생성날짜\n",
    "# 어떻게 활용할 수 있을지? ==> 업종별로 파악하는 수밖에 없음\n",
    "# 딱히 일자를 맞춰서 쓰기 보단, 총합을 계산해야 할 듯 하다.\n",
    "# 1월 20일 전은 데이터 생성 시기로 따져봐도 코로나 전으로 판단\n",
    "# 1월 20일 후부터 코로나 영향권으로 볼 지에 대한 의문\n",
    "# 배달 호출데이터는 3월 31일까지 이므로, 그 후 데이터 사용?\n",
    "\n",
    "\n",
    "# 날짜에 대해선 팀원과 논의 후 결정\n",
    "\n",
    "print(region['DATE'].unique())\n",
    "print(shop['DATE'].unique())"
   ]
  },
  {
   "cell_type": "code",
   "execution_count": null,
   "metadata": {
    "colab": {
     "base_uri": "https://localhost:8080/",
     "height": 419
    },
    "executionInfo": {
     "elapsed": 17,
     "status": "ok",
     "timestamp": 1629164841028,
     "user": {
      "displayName": "박성준",
      "photoUrl": "",
      "userId": "09344137793244302063"
     },
     "user_tz": -540
    },
    "id": "qfFEt0CaQWkL",
    "outputId": "f9eb6acf-c286-444f-d6b1-e5e23dea25d5"
   },
   "outputs": [],
   "source": [
    "# 위도 경도로 특정 구에 얼마나 폐업했는지는 파악 가능\n",
    "# 다만 지역을 서울, 경기로 한정 ==> 배달데이터가 서울 경기\n",
    "sudo = region[(region['BRTC_NM']=='서울') | (region['BRTC_NM']=='경기')]\n",
    "sudo"
   ]
  },
  {
   "cell_type": "code",
   "execution_count": null,
   "metadata": {
    "colab": {
     "base_uri": "https://localhost:8080/"
    },
    "executionInfo": {
     "elapsed": 16,
     "status": "ok",
     "timestamp": 1629164841029,
     "user": {
      "displayName": "박성준",
      "photoUrl": "",
      "userId": "09344137793244302063"
     },
     "user_tz": -540
    },
    "id": "66oLLGwVQWhy",
    "outputId": "150375df-6182-4a25-814b-78996e1d2fda"
   },
   "outputs": [],
   "source": [
    "# 날짜 상관없이 창업 폐업만 알아볼까?\n",
    "sudo['DIVISION'].value_counts() # 폐업이 압도적으로 많다. ==> 나중에 시간순으로도 보면 좋을 듯"
   ]
  },
  {
   "cell_type": "code",
   "execution_count": null,
   "metadata": {
    "colab": {
     "base_uri": "https://localhost:8080/",
     "height": 222
    },
    "executionInfo": {
     "elapsed": 16952,
     "status": "ok",
     "timestamp": 1629164857968,
     "user": {
      "displayName": "박성준",
      "photoUrl": "",
      "userId": "09344137793244302063"
     },
     "user_tz": -540
    },
    "id": "l2rhbigvQWfh",
    "outputId": "f26d2eec-7b67-4c86-dc4a-f26c04d1b8a7"
   },
   "outputs": [],
   "source": [
    "# 서울 내 특정 구 확인을 위한 전처리\n",
    "# replace가 안먹히네\n",
    "# 그냥 슬라이싱으로 처리\n",
    "\n",
    "for x in tqdm(range(len(sudo))) :\n",
    "  sudo['LA_DCMLPOINT_VALUE'].iloc[x] = sudo['LA_DCMLPOINT_VALUE'].iloc[x][:-3]\n",
    "  sudo['LO_DCMLPOINT_VALUE'].iloc[x] = sudo['LO_DCMLPOINT_VALUE'].iloc[x][:-3]\n",
    "\n",
    "sudo.head()"
   ]
  },
  {
   "cell_type": "code",
   "execution_count": null,
   "metadata": {
    "colab": {
     "base_uri": "https://localhost:8080/",
     "height": 204
    },
    "executionInfo": {
     "elapsed": 657,
     "status": "ok",
     "timestamp": 1629164858613,
     "user": {
      "displayName": "박성준",
      "photoUrl": "",
      "userId": "09344137793244302063"
     },
     "user_tz": -540
    },
    "id": "-F32szgvQWdY",
    "outputId": "7a06a9a1-083e-4754-9ec6-bb430d22d670"
   },
   "outputs": [],
   "source": [
    "# 아이디 만들기\n",
    "sudo['ID'] = sudo['LA_DCMLPOINT_VALUE'] + str(\"::\") + sudo['LO_DCMLPOINT_VALUE']\n",
    "sudo.head()"
   ]
  },
  {
   "cell_type": "code",
   "execution_count": null,
   "metadata": {
    "colab": {
     "base_uri": "https://localhost:8080/",
     "height": 419
    },
    "executionInfo": {
     "elapsed": 12,
     "status": "ok",
     "timestamp": 1629164858614,
     "user": {
      "displayName": "박성준",
      "photoUrl": "",
      "userId": "09344137793244302063"
     },
     "user_tz": -540
    },
    "id": "m4VYqsNMQWa7",
    "outputId": "2d2cdacf-5bd6-4304-fca2-487b1393b8b7"
   },
   "outputs": [],
   "source": [
    "sudo.groupby(by='ID', as_index=False).size() # 알아보기 위해서는 점을 찍고 마커클러스터로 수를 확인하는 것이 가장 효율적일 듯 하다.\n",
    "## 아니면 뒤에 한자리씩 자르고 size 수를 늘려도 될 것 같긴 하다.\n",
    "## 클러스터와 공시지가를 합쳐서 시각화하는 것도 가능하다.\n"
   ]
  },
  {
   "cell_type": "code",
   "execution_count": null,
   "metadata": {
    "colab": {
     "base_uri": "https://localhost:8080/"
    },
    "executionInfo": {
     "elapsed": 10,
     "status": "ok",
     "timestamp": 1629164858614,
     "user": {
      "displayName": "박성준",
      "photoUrl": "",
      "userId": "09344137793244302063"
     },
     "user_tz": -540
    },
    "id": "RbpOuWeKeECU",
    "outputId": "bc573e5c-ef01-465e-e39b-1919a75cd3d9"
   },
   "outputs": [],
   "source": [
    "sudo.groupby(by='ID', as_index=False).size()['size'].max()"
   ]
  },
  {
   "cell_type": "code",
   "execution_count": null,
   "metadata": {
    "executionInfo": {
     "elapsed": 9,
     "status": "ok",
     "timestamp": 1629164858615,
     "user": {
      "displayName": "박성준",
      "photoUrl": "",
      "userId": "09344137793244302063"
     },
     "user_tz": -540
    },
    "id": "txnW7zW6QWYP"
   },
   "outputs": [],
   "source": [
    "######################################################### 번외편 주문지역 인구특성"
   ]
  },
  {
   "cell_type": "code",
   "execution_count": null,
   "metadata": {
    "executionInfo": {
     "elapsed": 24028,
     "status": "ok",
     "timestamp": 1629164882634,
     "user": {
      "displayName": "박성준",
      "photoUrl": "",
      "userId": "09344137793244302063"
     },
     "user_tz": -540
    },
    "id": "y67pnOpQQWV7"
   },
   "outputs": [],
   "source": [
    "pop = pd.read_csv(\"/content/drive/MyDrive/KGU/공모전/KT_빅데이터플랫폼_데이터셋/popl.csv\")"
   ]
  },
  {
   "cell_type": "code",
   "execution_count": null,
   "metadata": {
    "colab": {
     "base_uri": "https://localhost:8080/",
     "height": 204
    },
    "executionInfo": {
     "elapsed": 13,
     "status": "ok",
     "timestamp": 1629164882642,
     "user": {
      "displayName": "박성준",
      "photoUrl": "",
      "userId": "09344137793244302063"
     },
     "user_tz": -540
    },
    "id": "KKK5WynTQWTY",
    "outputId": "91709038-7ad6-430b-e651-3da9ad39a7df"
   },
   "outputs": [],
   "source": [
    "display(pop.head())"
   ]
  },
  {
   "cell_type": "code",
   "execution_count": null,
   "metadata": {
    "colab": {
     "base_uri": "https://localhost:8080/",
     "height": 204
    },
    "executionInfo": {
     "elapsed": 12,
     "status": "ok",
     "timestamp": 1629164882643,
     "user": {
      "displayName": "박성준",
      "photoUrl": "",
      "userId": "09344137793244302063"
     },
     "user_tz": -540
    },
    "id": "ccFnc23PQWQ1",
    "outputId": "e1d911c7-ad8b-4337-9025-e73daac23764"
   },
   "outputs": [],
   "source": [
    "################################ 시간대별 서울 창폐업 비교\n",
    "seoul_region1 = region[region['BRTC_NM']=='서울']\n",
    "seoul_region1['DATE'] = pd.to_datetime(seoul_region1['DATE'], format='%Y%m%d')\n",
    "seoul_region1 = seoul_region1[seoul_region1['DATE'] < '2020-04-01']\n",
    "seoul_region1['DATE'] = seoul_region1['DATE'].astype(str)\n",
    "seoul_region1.head()"
   ]
  },
  {
   "cell_type": "code",
   "execution_count": null,
   "metadata": {
    "colab": {
     "base_uri": "https://localhost:8080/",
     "height": 669
    },
    "executionInfo": {
     "elapsed": 3244,
     "status": "ok",
     "timestamp": 1629164885877,
     "user": {
      "displayName": "박성준",
      "photoUrl": "",
      "userId": "09344137793244302063"
     },
     "user_tz": -540
    },
    "id": "MkE5XexgwFal",
    "outputId": "be374a44-2714-4044-85af-aaf942f35a82"
   },
   "outputs": [],
   "source": [
    "plt.figure(figsize=(30,10))\n",
    "\n",
    "sns.countplot(x='DATE', hue='DIVISION', data=seoul_region1)\n",
    "plt.title(\"날짜별 창폐업 비교\")\n",
    "plt.xticks(rotation=90)\n",
    "plt.show()\n",
    "# 후반부에 엄청 폐업 날짜가 몰려있는 날이 존재 // 해당 날짜에 거의 모든 데이터가 있는 듯 하다."
   ]
  },
  {
   "cell_type": "code",
   "execution_count": null,
   "metadata": {
    "colab": {
     "base_uri": "https://localhost:8080/",
     "height": 662
    },
    "executionInfo": {
     "elapsed": 5822,
     "status": "ok",
     "timestamp": 1629165046485,
     "user": {
      "displayName": "박성준",
      "photoUrl": "",
      "userId": "09344137793244302063"
     },
     "user_tz": -540
    },
    "id": "bDz42Bmswrm-",
    "outputId": "241191e2-3276-480c-f84f-e22ec40f5cfd"
   },
   "outputs": [],
   "source": [
    "##### 원 데이터 비교\n",
    "seoul_region = region[region['BRTC_NM']=='서울']\n",
    "plt.figure(figsize=(30,10))\n",
    "\n",
    "sns.countplot(x='DATE', hue='DIVISION', data=seoul_region)\n",
    "plt.title(\"날짜별 창폐업 비교\")\n",
    "plt.xticks(rotation=90)\n",
    "plt.show()\n",
    "\n",
    "# 2020년 5월 29일에 도대체 무슨 일이..."
   ]
  },
  {
   "cell_type": "code",
   "execution_count": null,
   "metadata": {
    "id": "oSU2RGxlzbIM"
   },
   "outputs": [],
   "source": []
  }
 ],
 "metadata": {
  "colab": {
   "authorship_tag": "ABX9TyMjgnHKr8XecGf22zPV4+HZ",
   "collapsed_sections": [],
   "machine_shape": "hm",
   "name": "Dacon_PK_3.ipynb",
   "provenance": []
  },
  "kernelspec": {
   "display_name": "Python 3",
   "language": "python",
   "name": "python3"
  },
  "language_info": {
   "codemirror_mode": {
    "name": "ipython",
    "version": 3
   },
   "file_extension": ".py",
   "mimetype": "text/x-python",
   "name": "python",
   "nbconvert_exporter": "python",
   "pygments_lexer": "ipython3",
   "version": "3.7.4"
  }
 },
 "nbformat": 4,
 "nbformat_minor": 1
}
